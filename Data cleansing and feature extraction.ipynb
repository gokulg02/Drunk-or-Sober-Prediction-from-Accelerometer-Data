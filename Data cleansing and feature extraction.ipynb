{
 "cells": [
  {
   "cell_type": "markdown",
   "metadata": {
    "id": "hBiRsJnpd8JL"
   },
   "source": [
    "Importing Libraries"
   ]
  },
  {
   "cell_type": "code",
   "execution_count": 1,
   "metadata": {
    "executionInfo": {
     "elapsed": 1178,
     "status": "ok",
     "timestamp": 1692039232278,
     "user": {
      "displayName": "Gokul G",
      "userId": "05384597959423668618"
     },
     "user_tz": -330
    },
    "id": "wEUrAwzk-YPn"
   },
   "outputs": [],
   "source": [
    "import numpy as np\n",
    "import pandas as pd\n",
    "import os\n",
    "import datetime\n",
    "import scipy"
   ]
  },
  {
   "cell_type": "markdown",
   "metadata": {
    "id": "S75cKXJId_xA"
   },
   "source": [
    "Loading Dataset"
   ]
  },
  {
   "cell_type": "code",
   "execution_count": 2,
   "metadata": {
    "executionInfo": {
     "elapsed": 20316,
     "status": "ok",
     "timestamp": 1692039253140,
     "user": {
      "displayName": "Gokul G",
      "userId": "05384597959423668618"
     },
     "user_tz": -330
    },
    "id": "ksNLdipr-aqq"
   },
   "outputs": [],
   "source": [
    "df = pd.read_csv(r\"C:\\Users\\Vasumathi T\\Drunk or Sober Prediction from Accelerometer Data\\all_accelerometer_data_pids_13.csv\")"
   ]
  },
  {
   "cell_type": "code",
   "execution_count": 3,
   "metadata": {
    "colab": {
     "base_uri": "https://localhost:8080/",
     "height": 206
    },
    "executionInfo": {
     "elapsed": 10,
     "status": "ok",
     "timestamp": 1692039253141,
     "user": {
      "displayName": "Gokul G",
      "userId": "05384597959423668618"
     },
     "user_tz": -330
    },
    "id": "u4sybTTH6brq",
    "outputId": "9d9b791d-a396-495c-e624-150496e660f2"
   },
   "outputs": [
    {
     "data": {
      "text/html": [
       "<div>\n",
       "<style scoped>\n",
       "    .dataframe tbody tr th:only-of-type {\n",
       "        vertical-align: middle;\n",
       "    }\n",
       "\n",
       "    .dataframe tbody tr th {\n",
       "        vertical-align: top;\n",
       "    }\n",
       "\n",
       "    .dataframe thead th {\n",
       "        text-align: right;\n",
       "    }\n",
       "</style>\n",
       "<table border=\"1\" class=\"dataframe\">\n",
       "  <thead>\n",
       "    <tr style=\"text-align: right;\">\n",
       "      <th></th>\n",
       "      <th>time</th>\n",
       "      <th>pid</th>\n",
       "      <th>x</th>\n",
       "      <th>y</th>\n",
       "      <th>z</th>\n",
       "    </tr>\n",
       "  </thead>\n",
       "  <tbody>\n",
       "    <tr>\n",
       "      <th>0</th>\n",
       "      <td>0</td>\n",
       "      <td>JB3156</td>\n",
       "      <td>0.0000</td>\n",
       "      <td>0.0000</td>\n",
       "      <td>0.0000</td>\n",
       "    </tr>\n",
       "    <tr>\n",
       "      <th>1</th>\n",
       "      <td>0</td>\n",
       "      <td>CC6740</td>\n",
       "      <td>0.0000</td>\n",
       "      <td>0.0000</td>\n",
       "      <td>0.0000</td>\n",
       "    </tr>\n",
       "    <tr>\n",
       "      <th>2</th>\n",
       "      <td>1493733882409</td>\n",
       "      <td>SA0297</td>\n",
       "      <td>0.0758</td>\n",
       "      <td>0.0273</td>\n",
       "      <td>-0.0102</td>\n",
       "    </tr>\n",
       "    <tr>\n",
       "      <th>3</th>\n",
       "      <td>1493733882455</td>\n",
       "      <td>SA0297</td>\n",
       "      <td>-0.0359</td>\n",
       "      <td>0.0794</td>\n",
       "      <td>0.0037</td>\n",
       "    </tr>\n",
       "    <tr>\n",
       "      <th>4</th>\n",
       "      <td>1493733882500</td>\n",
       "      <td>SA0297</td>\n",
       "      <td>-0.2427</td>\n",
       "      <td>-0.0861</td>\n",
       "      <td>-0.0163</td>\n",
       "    </tr>\n",
       "  </tbody>\n",
       "</table>\n",
       "</div>"
      ],
      "text/plain": [
       "            time     pid       x       y       z\n",
       "0              0  JB3156  0.0000  0.0000  0.0000\n",
       "1              0  CC6740  0.0000  0.0000  0.0000\n",
       "2  1493733882409  SA0297  0.0758  0.0273 -0.0102\n",
       "3  1493733882455  SA0297 -0.0359  0.0794  0.0037\n",
       "4  1493733882500  SA0297 -0.2427 -0.0861 -0.0163"
      ]
     },
     "execution_count": 3,
     "metadata": {},
     "output_type": "execute_result"
    }
   ],
   "source": [
    "df.head()"
   ]
  },
  {
   "cell_type": "code",
   "execution_count": 5,
   "metadata": {},
   "outputs": [
    {
     "data": {
      "text/plain": [
       "CC6740    2374695\n",
       "PC6771    2141701\n",
       "HV0618    1876013\n",
       "DK3500    1339622\n",
       "BK7610    1225727\n",
       "JB3156    1177749\n",
       "SA0297     962901\n",
       "SF3079     662949\n",
       "MJ8002     631303\n",
       "DC6359     591358\n",
       "BU4707     447423\n",
       "MC7070     318600\n",
       "JR8022     307526\n",
       "Name: pid, dtype: int64"
      ]
     },
     "execution_count": 5,
     "metadata": {},
     "output_type": "execute_result"
    }
   ],
   "source": [
    "df['pid'].value_counts()"
   ]
  },
  {
   "cell_type": "code",
   "execution_count": 6,
   "metadata": {
    "executionInfo": {
     "elapsed": 1441,
     "status": "ok",
     "timestamp": 1692039254576,
     "user": {
      "displayName": "Gokul G",
      "userId": "05384597959423668618"
     },
     "user_tz": -330
    },
    "id": "o6GYyoVH6lIq"
   },
   "outputs": [],
   "source": [
    "df=df.drop(df.index[df[\"time\"] == 0])"
   ]
  },
  {
   "cell_type": "markdown",
   "metadata": {
    "id": "d19NpRKkeKSW"
   },
   "source": [
    "Splitting datapoints into time window of 60 seconds"
   ]
  },
  {
   "cell_type": "code",
   "execution_count": 7,
   "metadata": {
    "executionInfo": {
     "elapsed": 71319,
     "status": "ok",
     "timestamp": 1692039325891,
     "user": {
      "displayName": "Gokul G",
      "userId": "05384597959423668618"
     },
     "user_tz": -330
    },
    "id": "NtQo7vrB7qgI"
   },
   "outputs": [],
   "source": [
    "def get_time_ignore_second(x):\n",
    "    t = datetime.datetime.fromtimestamp(x/1000.0)\n",
    "    t = t.replace(microsecond = 0)\n",
    "    t = t.replace(second = int(t.second / 10))\n",
    "    return t.timestamp()\n",
    "df['t_win'] = df['time'].apply(get_time_ignore_second)"
   ]
  },
  {
   "cell_type": "markdown",
   "metadata": {
    "id": "owuCs3-TelDa"
   },
   "source": [
    "Feature Extraction"
   ]
  },
  {
   "cell_type": "code",
   "execution_count": 8,
   "metadata": {
    "executionInfo": {
     "elapsed": 734,
     "status": "ok",
     "timestamp": 1692039326618,
     "user": {
      "displayName": "Gokul G",
      "userId": "05384597959423668618"
     },
     "user_tz": -330
    },
    "id": "0_OyJ_cVYtvA"
   },
   "outputs": [],
   "source": [
    "funcs = [('mean', np.mean), ('variance', np.var), ('median', np.median), ('min', np.min), ('max', np.max), ('rms', lambda x: np.sqrt(np.mean(np.square(x)))),  ('skew', scipy.stats.skew), ('Kurtiosis', scipy.stats.kurtosis)]\n",
    "fft_funcs = [('variance', np.var), ('spectral_centroid_spread', lambda x: spectral_centroid_spread(x, 40)) ]\n",
    "cols = ['x', 'y', 'z']\n",
    "\n",
    "def spectral_centroid_spread(fft_magnitude, sampling_rate):\n",
    "    ind = (np.arange(1, len(fft_magnitude) + 1)) * (sampling_rate / (2.0 * len(fft_magnitude)))\n",
    "    eps = 0.00000001\n",
    "    Xt = fft_magnitude.copy()\n",
    "    Xt = Xt / Xt.max()\n",
    "    NUM = np.sum(ind * Xt)\n",
    "    DEN = np.sum(Xt) + eps\n",
    "    centroid = (NUM / DEN)\n",
    "    spread = np.sqrt(np.sum(((ind - centroid) ** 2) * Xt) / DEN)\n",
    "    centroid = centroid / (sampling_rate / 2.0)\n",
    "    return centroid"
   ]
  },
  {
   "cell_type": "code",
   "execution_count": 9,
   "metadata": {
    "colab": {
     "base_uri": "https://localhost:8080/"
    },
    "executionInfo": {
     "elapsed": 181661,
     "status": "ok",
     "timestamp": 1692039508273,
     "user": {
      "displayName": "Gokul G",
      "userId": "05384597959423668618"
     },
     "user_tz": -330
    },
    "id": "XuoJg3JybnYt",
    "outputId": "af986230-38a1-4e6b-83bf-7dac99364598"
   },
   "outputs": [
    {
     "name": "stderr",
     "output_type": "stream",
     "text": [
      "F:\\New folder\\Lib\\site-packages\\pandas\\core\\apply.py:1174: RuntimeWarning: Precision loss occurred in moment calculation due to catastrophic cancellation. This occurs when the data are nearly identical. Results may be unreliable.\n",
      "  mapped = lib.map_infer(\n",
      "F:\\New folder\\Lib\\site-packages\\pandas\\core\\apply.py:1174: RuntimeWarning: Precision loss occurred in moment calculation due to catastrophic cancellation. This occurs when the data are nearly identical. Results may be unreliable.\n",
      "  mapped = lib.map_infer(\n",
      "F:\\New folder\\Lib\\site-packages\\pandas\\core\\apply.py:1174: RuntimeWarning: Precision loss occurred in moment calculation due to catastrophic cancellation. This occurs when the data are nearly identical. Results may be unreliable.\n",
      "  mapped = lib.map_infer(\n",
      "F:\\New folder\\Lib\\site-packages\\pandas\\core\\apply.py:1174: RuntimeWarning: Precision loss occurred in moment calculation due to catastrophic cancellation. This occurs when the data are nearly identical. Results may be unreliable.\n",
      "  mapped = lib.map_infer(\n",
      "F:\\New folder\\Lib\\site-packages\\pandas\\core\\apply.py:1174: RuntimeWarning: Precision loss occurred in moment calculation due to catastrophic cancellation. This occurs when the data are nearly identical. Results may be unreliable.\n",
      "  mapped = lib.map_infer(\n",
      "F:\\New folder\\Lib\\site-packages\\pandas\\core\\apply.py:1174: RuntimeWarning: Precision loss occurred in moment calculation due to catastrophic cancellation. This occurs when the data are nearly identical. Results may be unreliable.\n",
      "  mapped = lib.map_infer(\n",
      "F:\\New folder\\Lib\\site-packages\\pandas\\core\\apply.py:1174: RuntimeWarning: Precision loss occurred in moment calculation due to catastrophic cancellation. This occurs when the data are nearly identical. Results may be unreliable.\n",
      "  mapped = lib.map_infer(\n",
      "F:\\New folder\\Lib\\site-packages\\pandas\\core\\apply.py:1174: RuntimeWarning: Precision loss occurred in moment calculation due to catastrophic cancellation. This occurs when the data are nearly identical. Results may be unreliable.\n",
      "  mapped = lib.map_infer(\n",
      "F:\\New folder\\Lib\\site-packages\\pandas\\core\\apply.py:1174: RuntimeWarning: Precision loss occurred in moment calculation due to catastrophic cancellation. This occurs when the data are nearly identical. Results may be unreliable.\n",
      "  mapped = lib.map_infer(\n",
      "F:\\New folder\\Lib\\site-packages\\pandas\\core\\apply.py:1174: RuntimeWarning: Precision loss occurred in moment calculation due to catastrophic cancellation. This occurs when the data are nearly identical. Results may be unreliable.\n",
      "  mapped = lib.map_infer(\n"
     ]
    }
   ],
   "source": [
    "look_up_frames = dict()\n",
    "for pid in df.pid.unique():\n",
    "  rf = pd.DataFrame()\n",
    "  grouped = df[df.pid == pid].groupby('t_win')\n",
    "  #grouped.head()\n",
    "  for col in cols:\n",
    "    col_array = grouped[col].apply(np.array)\n",
    "    col_fft = col_array.apply(scipy.fft.fft)\n",
    "    for key, func in funcs:\n",
    "      #print(pid, col, key)\n",
    "      rf['_'.join([col, key])] = col_array.apply(func)\n",
    "    for key, func in fft_funcs:\n",
    "      #print(pid, col, key)\n",
    "      rf['_'.join([col, 'FFT', key])] = col_fft.apply(func)\n",
    "  rf.pid = pid\n",
    "  look_up_frames[pid] = rf\n"
   ]
  },
  {
   "cell_type": "markdown",
   "metadata": {
    "id": "GkbOr9_Ge4Qh"
   },
   "source": [
    "Classification of datapoints into drunk/sober based on blood alcohol level"
   ]
  },
  {
   "cell_type": "code",
   "execution_count": 13,
   "metadata": {
    "executionInfo": {
     "elapsed": 9,
     "status": "ok",
     "timestamp": 1692039326619,
     "user": {
      "displayName": "Gokul G",
      "userId": "05384597959423668618"
     },
     "user_tz": -330
    },
    "id": "5UC5KWv1jIlz"
   },
   "outputs": [],
   "source": [
    "base_path = r\"C:\\Users\\Vasumathi T\\Drunk or Sober Prediction from Accelerometer Data\\clean tac\"\n",
    "tac_dict = dict()\n",
    "for file_path in os.listdir(base_path):\n",
    "  resp_frame = pd.read_csv(base_path + '/'+ file_path)\n",
    "  tac_dict[file_path.split('_')[0]] = resp_frame\n",
    "\n",
    "\n",
    "def get_y(pid, t_value):\n",
    "  ind = np.argmax(tac_dict[pid]['timestamp'] > t_value)\n",
    "  if ind != 0:\n",
    "    ind = ind - 1\n",
    "  tac= (tac_dict[pid]).iloc[[ind]]['TAC_Reading'].values[0]\n",
    "  if tac>0.08:\n",
    "    return 1\n",
    "  else:\n",
    "    return 0"
   ]
  },
  {
   "cell_type": "code",
   "execution_count": 14,
   "metadata": {
    "colab": {
     "base_uri": "https://localhost:8080/"
    },
    "executionInfo": {
     "elapsed": 43430,
     "status": "ok",
     "timestamp": 1692040178416,
     "user": {
      "displayName": "Gokul G",
      "userId": "05384597959423668618"
     },
     "user_tz": -330
    },
    "id": "44ikMYn-R7Se",
    "outputId": "7030dee9-0095-4688-80b8-5fb79c45c1b8"
   },
   "outputs": [
    {
     "name": "stderr",
     "output_type": "stream",
     "text": [
      "C:\\Users\\Vasumathi T\\AppData\\Local\\Temp\\ipykernel_11580\\877481042.py:7: SettingWithCopyWarning: \n",
      "A value is trying to be set on a copy of a slice from a DataFrame\n",
      "\n",
      "See the caveats in the documentation: https://pandas.pydata.org/pandas-docs/stable/user_guide/indexing.html#returning-a-view-versus-a-copy\n",
      "  look_up_frames[pid]['drunk'].iloc[i]= get_y(pid,look_up_frames[pid]['t'].iloc[i])\n",
      "C:\\Users\\Vasumathi T\\AppData\\Local\\Temp\\ipykernel_11580\\877481042.py:7: SettingWithCopyWarning: \n",
      "A value is trying to be set on a copy of a slice from a DataFrame\n",
      "\n",
      "See the caveats in the documentation: https://pandas.pydata.org/pandas-docs/stable/user_guide/indexing.html#returning-a-view-versus-a-copy\n",
      "  look_up_frames[pid]['drunk'].iloc[i]= get_y(pid,look_up_frames[pid]['t'].iloc[i])\n",
      "C:\\Users\\Vasumathi T\\AppData\\Local\\Temp\\ipykernel_11580\\877481042.py:7: SettingWithCopyWarning: \n",
      "A value is trying to be set on a copy of a slice from a DataFrame\n",
      "\n",
      "See the caveats in the documentation: https://pandas.pydata.org/pandas-docs/stable/user_guide/indexing.html#returning-a-view-versus-a-copy\n",
      "  look_up_frames[pid]['drunk'].iloc[i]= get_y(pid,look_up_frames[pid]['t'].iloc[i])\n",
      "C:\\Users\\Vasumathi T\\AppData\\Local\\Temp\\ipykernel_11580\\877481042.py:7: SettingWithCopyWarning: \n",
      "A value is trying to be set on a copy of a slice from a DataFrame\n",
      "\n",
      "See the caveats in the documentation: https://pandas.pydata.org/pandas-docs/stable/user_guide/indexing.html#returning-a-view-versus-a-copy\n",
      "  look_up_frames[pid]['drunk'].iloc[i]= get_y(pid,look_up_frames[pid]['t'].iloc[i])\n",
      "C:\\Users\\Vasumathi T\\AppData\\Local\\Temp\\ipykernel_11580\\877481042.py:7: SettingWithCopyWarning: \n",
      "A value is trying to be set on a copy of a slice from a DataFrame\n",
      "\n",
      "See the caveats in the documentation: https://pandas.pydata.org/pandas-docs/stable/user_guide/indexing.html#returning-a-view-versus-a-copy\n",
      "  look_up_frames[pid]['drunk'].iloc[i]= get_y(pid,look_up_frames[pid]['t'].iloc[i])\n",
      "C:\\Users\\Vasumathi T\\AppData\\Local\\Temp\\ipykernel_11580\\877481042.py:7: SettingWithCopyWarning: \n",
      "A value is trying to be set on a copy of a slice from a DataFrame\n",
      "\n",
      "See the caveats in the documentation: https://pandas.pydata.org/pandas-docs/stable/user_guide/indexing.html#returning-a-view-versus-a-copy\n",
      "  look_up_frames[pid]['drunk'].iloc[i]= get_y(pid,look_up_frames[pid]['t'].iloc[i])\n",
      "C:\\Users\\Vasumathi T\\AppData\\Local\\Temp\\ipykernel_11580\\877481042.py:7: SettingWithCopyWarning: \n",
      "A value is trying to be set on a copy of a slice from a DataFrame\n",
      "\n",
      "See the caveats in the documentation: https://pandas.pydata.org/pandas-docs/stable/user_guide/indexing.html#returning-a-view-versus-a-copy\n",
      "  look_up_frames[pid]['drunk'].iloc[i]= get_y(pid,look_up_frames[pid]['t'].iloc[i])\n",
      "C:\\Users\\Vasumathi T\\AppData\\Local\\Temp\\ipykernel_11580\\877481042.py:7: SettingWithCopyWarning: \n",
      "A value is trying to be set on a copy of a slice from a DataFrame\n",
      "\n",
      "See the caveats in the documentation: https://pandas.pydata.org/pandas-docs/stable/user_guide/indexing.html#returning-a-view-versus-a-copy\n",
      "  look_up_frames[pid]['drunk'].iloc[i]= get_y(pid,look_up_frames[pid]['t'].iloc[i])\n",
      "C:\\Users\\Vasumathi T\\AppData\\Local\\Temp\\ipykernel_11580\\877481042.py:7: SettingWithCopyWarning: \n",
      "A value is trying to be set on a copy of a slice from a DataFrame\n",
      "\n",
      "See the caveats in the documentation: https://pandas.pydata.org/pandas-docs/stable/user_guide/indexing.html#returning-a-view-versus-a-copy\n",
      "  look_up_frames[pid]['drunk'].iloc[i]= get_y(pid,look_up_frames[pid]['t'].iloc[i])\n",
      "C:\\Users\\Vasumathi T\\AppData\\Local\\Temp\\ipykernel_11580\\877481042.py:7: SettingWithCopyWarning: \n",
      "A value is trying to be set on a copy of a slice from a DataFrame\n",
      "\n",
      "See the caveats in the documentation: https://pandas.pydata.org/pandas-docs/stable/user_guide/indexing.html#returning-a-view-versus-a-copy\n",
      "  look_up_frames[pid]['drunk'].iloc[i]= get_y(pid,look_up_frames[pid]['t'].iloc[i])\n",
      "C:\\Users\\Vasumathi T\\AppData\\Local\\Temp\\ipykernel_11580\\877481042.py:7: SettingWithCopyWarning: \n",
      "A value is trying to be set on a copy of a slice from a DataFrame\n",
      "\n",
      "See the caveats in the documentation: https://pandas.pydata.org/pandas-docs/stable/user_guide/indexing.html#returning-a-view-versus-a-copy\n",
      "  look_up_frames[pid]['drunk'].iloc[i]= get_y(pid,look_up_frames[pid]['t'].iloc[i])\n",
      "C:\\Users\\Vasumathi T\\AppData\\Local\\Temp\\ipykernel_11580\\877481042.py:7: SettingWithCopyWarning: \n",
      "A value is trying to be set on a copy of a slice from a DataFrame\n",
      "\n",
      "See the caveats in the documentation: https://pandas.pydata.org/pandas-docs/stable/user_guide/indexing.html#returning-a-view-versus-a-copy\n",
      "  look_up_frames[pid]['drunk'].iloc[i]= get_y(pid,look_up_frames[pid]['t'].iloc[i])\n",
      "C:\\Users\\Vasumathi T\\AppData\\Local\\Temp\\ipykernel_11580\\877481042.py:7: SettingWithCopyWarning: \n",
      "A value is trying to be set on a copy of a slice from a DataFrame\n",
      "\n",
      "See the caveats in the documentation: https://pandas.pydata.org/pandas-docs/stable/user_guide/indexing.html#returning-a-view-versus-a-copy\n",
      "  look_up_frames[pid]['drunk'].iloc[i]= get_y(pid,look_up_frames[pid]['t'].iloc[i])\n"
     ]
    }
   ],
   "source": [
    "for pid in df.pid.unique():\n",
    "  look_up_frames[pid]['t']=look_up_frames[pid].index\n",
    "  look_up_frames[pid]['t']=look_up_frames[pid]['t'].astype(int)\n",
    "  look_up_frames[pid]['pid']=pid\n",
    "  look_up_frames[pid]['drunk']=0\n",
    "  for i in range(len(look_up_frames[pid]['t'].index)):\n",
    "   look_up_frames[pid]['drunk'].iloc[i]= get_y(pid,look_up_frames[pid]['t'].iloc[i])"
   ]
  },
  {
   "cell_type": "markdown",
   "metadata": {
    "id": "xdnX70OYfMSD"
   },
   "source": [
    "Creation of final dataset"
   ]
  },
  {
   "cell_type": "code",
   "execution_count": 15,
   "metadata": {
    "colab": {
     "base_uri": "https://localhost:8080/"
    },
    "executionInfo": {
     "elapsed": 1162,
     "status": "ok",
     "timestamp": 1692040190387,
     "user": {
      "displayName": "Gokul G",
      "userId": "05384597959423668618"
     },
     "user_tz": -330
    },
    "id": "s9xudejmbZuN",
    "outputId": "1cc89eb5-f502-46e1-ef34-cb3b0b354fda"
   },
   "outputs": [
    {
     "name": "stderr",
     "output_type": "stream",
     "text": [
      "C:\\Users\\Vasumathi T\\AppData\\Local\\Temp\\ipykernel_11580\\1986353118.py:6: FutureWarning: The frame.append method is deprecated and will be removed from pandas in a future version. Use pandas.concat instead.\n",
      "  ff = ff.append(look_up_frames[pid], ignore_index=True)\n"
     ]
    }
   ],
   "source": [
    "pids = list(df.pid.unique())\n",
    "ff = pd.DataFrame()\n",
    "ff = look_up_frames[pids[0]]\n",
    "pids.pop(0)\n",
    "for pid in pids:\n",
    "  ff = ff.append(look_up_frames[pid], ignore_index=True)"
   ]
  },
  {
   "cell_type": "code",
   "execution_count": 16,
   "metadata": {
    "executionInfo": {
     "elapsed": 2617,
     "status": "ok",
     "timestamp": 1692040203946,
     "user": {
      "displayName": "Gokul G",
      "userId": "05384597959423668618"
     },
     "user_tz": -330
    },
    "id": "lSxiNuhWNUf1"
   },
   "outputs": [],
   "source": [
    "ff.to_csv(r\"C:\\Users\\Vasumathi T\\Drunk or Sober Prediction from Accelerometer Data\\clean_data.csv\")"
   ]
  },
  {
   "cell_type": "code",
   "execution_count": 17,
   "metadata": {
    "colab": {
     "base_uri": "https://localhost:8080/",
     "height": 299
    },
    "executionInfo": {
     "elapsed": 462,
     "status": "ok",
     "timestamp": 1692040193643,
     "user": {
      "displayName": "Gokul G",
      "userId": "05384597959423668618"
     },
     "user_tz": -330
    },
    "id": "g3BLHegQbzQr",
    "outputId": "7fcda733-f391-4de7-8b9e-332dc1ff8814"
   },
   "outputs": [
    {
     "data": {
      "text/html": [
       "<div>\n",
       "<style scoped>\n",
       "    .dataframe tbody tr th:only-of-type {\n",
       "        vertical-align: middle;\n",
       "    }\n",
       "\n",
       "    .dataframe tbody tr th {\n",
       "        vertical-align: top;\n",
       "    }\n",
       "\n",
       "    .dataframe thead th {\n",
       "        text-align: right;\n",
       "    }\n",
       "</style>\n",
       "<table border=\"1\" class=\"dataframe\">\n",
       "  <thead>\n",
       "    <tr style=\"text-align: right;\">\n",
       "      <th></th>\n",
       "      <th>x_mean</th>\n",
       "      <th>x_variance</th>\n",
       "      <th>x_median</th>\n",
       "      <th>x_min</th>\n",
       "      <th>x_max</th>\n",
       "      <th>x_rms</th>\n",
       "      <th>x_skew</th>\n",
       "      <th>x_Kurtiosis</th>\n",
       "      <th>x_FFT_variance</th>\n",
       "      <th>x_FFT_spectral_centroid_spread</th>\n",
       "      <th>...</th>\n",
       "      <th>z_min</th>\n",
       "      <th>z_max</th>\n",
       "      <th>z_rms</th>\n",
       "      <th>z_skew</th>\n",
       "      <th>z_Kurtiosis</th>\n",
       "      <th>z_FFT_variance</th>\n",
       "      <th>z_FFT_spectral_centroid_spread</th>\n",
       "      <th>t</th>\n",
       "      <th>pid</th>\n",
       "      <th>drunk</th>\n",
       "    </tr>\n",
       "  </thead>\n",
       "  <tbody>\n",
       "    <tr>\n",
       "      <th>0</th>\n",
       "      <td>-0.005482</td>\n",
       "      <td>0.001540</td>\n",
       "      <td>-0.0016</td>\n",
       "      <td>-0.2888</td>\n",
       "      <td>0.1672</td>\n",
       "      <td>0.039620</td>\n",
       "      <td>-3.152112</td>\n",
       "      <td>25.105315</td>\n",
       "      <td>0.256400</td>\n",
       "      <td>0.542149-0.615443j</td>\n",
       "      <td>...</td>\n",
       "      <td>-0.1177</td>\n",
       "      <td>0.1393</td>\n",
       "      <td>0.031382</td>\n",
       "      <td>-0.158666</td>\n",
       "      <td>5.648270</td>\n",
       "      <td>0.164358</td>\n",
       "      <td>0.265498+0.455852j</td>\n",
       "      <td>1493733844</td>\n",
       "      <td>SA0297</td>\n",
       "      <td>0</td>\n",
       "    </tr>\n",
       "    <tr>\n",
       "      <th>1</th>\n",
       "      <td>0.007375</td>\n",
       "      <td>0.004575</td>\n",
       "      <td>-0.0010</td>\n",
       "      <td>-0.2182</td>\n",
       "      <td>0.4063</td>\n",
       "      <td>0.068038</td>\n",
       "      <td>3.409275</td>\n",
       "      <td>17.744252</td>\n",
       "      <td>1.027660</td>\n",
       "      <td>-2.847666-4.559118j</td>\n",
       "      <td>...</td>\n",
       "      <td>-0.3146</td>\n",
       "      <td>0.7028</td>\n",
       "      <td>0.089431</td>\n",
       "      <td>3.240370</td>\n",
       "      <td>25.094149</td>\n",
       "      <td>1.775239</td>\n",
       "      <td>0.482896-0.414526j</td>\n",
       "      <td>1493733845</td>\n",
       "      <td>SA0297</td>\n",
       "      <td>0</td>\n",
       "    </tr>\n",
       "    <tr>\n",
       "      <th>2</th>\n",
       "      <td>0.000866</td>\n",
       "      <td>0.000292</td>\n",
       "      <td>-0.0002</td>\n",
       "      <td>-0.0107</td>\n",
       "      <td>0.2475</td>\n",
       "      <td>0.017108</td>\n",
       "      <td>13.737278</td>\n",
       "      <td>195.249854</td>\n",
       "      <td>0.064100</td>\n",
       "      <td>-0.578196-4.058292j</td>\n",
       "      <td>...</td>\n",
       "      <td>-0.1883</td>\n",
       "      <td>0.0062</td>\n",
       "      <td>0.013219</td>\n",
       "      <td>-14.224837</td>\n",
       "      <td>204.867043</td>\n",
       "      <td>0.038267</td>\n",
       "      <td>-0.528959+0.039652j</td>\n",
       "      <td>1493733900</td>\n",
       "      <td>SA0297</td>\n",
       "      <td>0</td>\n",
       "    </tr>\n",
       "    <tr>\n",
       "      <th>3</th>\n",
       "      <td>0.000034</td>\n",
       "      <td>0.000008</td>\n",
       "      <td>0.0000</td>\n",
       "      <td>-0.0124</td>\n",
       "      <td>0.0178</td>\n",
       "      <td>0.002774</td>\n",
       "      <td>0.823852</td>\n",
       "      <td>8.292259</td>\n",
       "      <td>0.001668</td>\n",
       "      <td>0.507541-0.262002j</td>\n",
       "      <td>...</td>\n",
       "      <td>-0.0079</td>\n",
       "      <td>0.0114</td>\n",
       "      <td>0.003066</td>\n",
       "      <td>2.803187</td>\n",
       "      <td>21.245055</td>\n",
       "      <td>0.002075</td>\n",
       "      <td>-0.351584+0.762266j</td>\n",
       "      <td>1493733901</td>\n",
       "      <td>SA0297</td>\n",
       "      <td>0</td>\n",
       "    </tr>\n",
       "    <tr>\n",
       "      <th>4</th>\n",
       "      <td>-0.000262</td>\n",
       "      <td>0.000008</td>\n",
       "      <td>-0.0005</td>\n",
       "      <td>-0.0140</td>\n",
       "      <td>0.0128</td>\n",
       "      <td>0.002892</td>\n",
       "      <td>0.490040</td>\n",
       "      <td>5.675891</td>\n",
       "      <td>0.001644</td>\n",
       "      <td>0.495195-0.089977j</td>\n",
       "      <td>...</td>\n",
       "      <td>-0.0083</td>\n",
       "      <td>0.0028</td>\n",
       "      <td>0.002425</td>\n",
       "      <td>-0.723952</td>\n",
       "      <td>1.651197</td>\n",
       "      <td>0.001292</td>\n",
       "      <td>1.319628+0.210628j</td>\n",
       "      <td>1493733902</td>\n",
       "      <td>SA0297</td>\n",
       "      <td>0</td>\n",
       "    </tr>\n",
       "  </tbody>\n",
       "</table>\n",
       "<p>5 rows × 33 columns</p>\n",
       "</div>"
      ],
      "text/plain": [
       "     x_mean  x_variance  x_median   x_min   x_max     x_rms     x_skew  \\\n",
       "0 -0.005482    0.001540   -0.0016 -0.2888  0.1672  0.039620  -3.152112   \n",
       "1  0.007375    0.004575   -0.0010 -0.2182  0.4063  0.068038   3.409275   \n",
       "2  0.000866    0.000292   -0.0002 -0.0107  0.2475  0.017108  13.737278   \n",
       "3  0.000034    0.000008    0.0000 -0.0124  0.0178  0.002774   0.823852   \n",
       "4 -0.000262    0.000008   -0.0005 -0.0140  0.0128  0.002892   0.490040   \n",
       "\n",
       "   x_Kurtiosis  x_FFT_variance  x_FFT_spectral_centroid_spread  ...   z_min  \\\n",
       "0    25.105315        0.256400              0.542149-0.615443j  ... -0.1177   \n",
       "1    17.744252        1.027660             -2.847666-4.559118j  ... -0.3146   \n",
       "2   195.249854        0.064100             -0.578196-4.058292j  ... -0.1883   \n",
       "3     8.292259        0.001668              0.507541-0.262002j  ... -0.0079   \n",
       "4     5.675891        0.001644              0.495195-0.089977j  ... -0.0083   \n",
       "\n",
       "    z_max     z_rms     z_skew  z_Kurtiosis  z_FFT_variance  \\\n",
       "0  0.1393  0.031382  -0.158666     5.648270        0.164358   \n",
       "1  0.7028  0.089431   3.240370    25.094149        1.775239   \n",
       "2  0.0062  0.013219 -14.224837   204.867043        0.038267   \n",
       "3  0.0114  0.003066   2.803187    21.245055        0.002075   \n",
       "4  0.0028  0.002425  -0.723952     1.651197        0.001292   \n",
       "\n",
       "   z_FFT_spectral_centroid_spread           t     pid  drunk  \n",
       "0              0.265498+0.455852j  1493733844  SA0297      0  \n",
       "1              0.482896-0.414526j  1493733845  SA0297      0  \n",
       "2             -0.528959+0.039652j  1493733900  SA0297      0  \n",
       "3             -0.351584+0.762266j  1493733901  SA0297      0  \n",
       "4              1.319628+0.210628j  1493733902  SA0297      0  \n",
       "\n",
       "[5 rows x 33 columns]"
      ]
     },
     "execution_count": 17,
     "metadata": {},
     "output_type": "execute_result"
    }
   ],
   "source": [
    "ff.head()"
   ]
  },
  {
   "cell_type": "code",
   "execution_count": 18,
   "metadata": {},
   "outputs": [
    {
     "data": {
      "text/plain": [
       "CC6740    6935\n",
       "PC6771    5377\n",
       "HV0618    4741\n",
       "SA0297    4403\n",
       "JB3156    3404\n",
       "DK3500    3372\n",
       "BK7610    3089\n",
       "SF3079    1671\n",
       "MJ8002    1589\n",
       "DC6359    1568\n",
       "BU4707    1139\n",
       "MC7070     804\n",
       "JR8022     782\n",
       "Name: pid, dtype: int64"
      ]
     },
     "execution_count": 18,
     "metadata": {},
     "output_type": "execute_result"
    }
   ],
   "source": [
    "ff['pid'].value_counts()"
   ]
  },
  {
   "cell_type": "code",
   "execution_count": 19,
   "metadata": {},
   "outputs": [
    {
     "data": {
      "text/plain": [
       "['x_mean',\n",
       " 'x_variance',\n",
       " 'x_median',\n",
       " 'x_min',\n",
       " 'x_max',\n",
       " 'x_rms',\n",
       " 'x_skew',\n",
       " 'x_Kurtiosis',\n",
       " 'x_FFT_variance',\n",
       " 'x_FFT_spectral_centroid_spread',\n",
       " 'y_mean',\n",
       " 'y_variance',\n",
       " 'y_median',\n",
       " 'y_min',\n",
       " 'y_max',\n",
       " 'y_rms',\n",
       " 'y_skew',\n",
       " 'y_Kurtiosis',\n",
       " 'y_FFT_variance',\n",
       " 'y_FFT_spectral_centroid_spread',\n",
       " 'z_mean',\n",
       " 'z_variance',\n",
       " 'z_median',\n",
       " 'z_min',\n",
       " 'z_max',\n",
       " 'z_rms',\n",
       " 'z_skew',\n",
       " 'z_Kurtiosis',\n",
       " 'z_FFT_variance',\n",
       " 'z_FFT_spectral_centroid_spread',\n",
       " 't',\n",
       " 'pid',\n",
       " 'drunk']"
      ]
     },
     "execution_count": 19,
     "metadata": {},
     "output_type": "execute_result"
    }
   ],
   "source": [
    "list(ff.columns)"
   ]
  }
 ],
 "metadata": {
  "colab": {
   "authorship_tag": "ABX9TyMXbCwi2/w3ANy6HDPJyS2d",
   "mount_file_id": "1bHm9SQSfI3BT1VVMfxrQQg8DRAr9JKdw",
   "provenance": []
  },
  "kernelspec": {
   "display_name": "Python 3 (ipykernel)",
   "language": "python",
   "name": "python3"
  },
  "language_info": {
   "codemirror_mode": {
    "name": "ipython",
    "version": 3
   },
   "file_extension": ".py",
   "mimetype": "text/x-python",
   "name": "python",
   "nbconvert_exporter": "python",
   "pygments_lexer": "ipython3",
   "version": "3.11.4"
  }
 },
 "nbformat": 4,
 "nbformat_minor": 1
}
