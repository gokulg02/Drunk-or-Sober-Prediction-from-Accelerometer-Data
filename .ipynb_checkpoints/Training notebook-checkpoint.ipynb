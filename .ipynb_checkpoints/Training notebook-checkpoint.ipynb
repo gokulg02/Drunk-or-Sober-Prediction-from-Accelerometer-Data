{
 "cells": [
  {
   "cell_type": "code",
   "execution_count": 51,
   "id": "88fa5c21",
   "metadata": {},
   "outputs": [],
   "source": [
    "import numpy as np\n",
    "import pandas as pd\n",
    "import os\n",
    "import seaborn as sns\n",
    "import matplotlib.pyplot as plt"
   ]
  },
  {
   "cell_type": "code",
   "execution_count": 31,
   "id": "5876661b",
   "metadata": {},
   "outputs": [
    {
     "data": {
      "text/html": [
       "<div>\n",
       "<style scoped>\n",
       "    .dataframe tbody tr th:only-of-type {\n",
       "        vertical-align: middle;\n",
       "    }\n",
       "\n",
       "    .dataframe tbody tr th {\n",
       "        vertical-align: top;\n",
       "    }\n",
       "\n",
       "    .dataframe thead th {\n",
       "        text-align: right;\n",
       "    }\n",
       "</style>\n",
       "<table border=\"1\" class=\"dataframe\">\n",
       "  <thead>\n",
       "    <tr style=\"text-align: right;\">\n",
       "      <th></th>\n",
       "      <th>x_mean</th>\n",
       "      <th>x_variance</th>\n",
       "      <th>x_median</th>\n",
       "      <th>x_min</th>\n",
       "      <th>x_max</th>\n",
       "      <th>x_rms</th>\n",
       "      <th>x_skew</th>\n",
       "      <th>x_Kurtiosis</th>\n",
       "      <th>x_FFT_variance</th>\n",
       "      <th>y_mean</th>\n",
       "      <th>...</th>\n",
       "      <th>z_mean</th>\n",
       "      <th>z_variance</th>\n",
       "      <th>z_median</th>\n",
       "      <th>z_min</th>\n",
       "      <th>z_max</th>\n",
       "      <th>z_rms</th>\n",
       "      <th>z_skew</th>\n",
       "      <th>z_Kurtiosis</th>\n",
       "      <th>z_FFT_variance</th>\n",
       "      <th>drunk</th>\n",
       "    </tr>\n",
       "  </thead>\n",
       "  <tbody>\n",
       "    <tr>\n",
       "      <th>0</th>\n",
       "      <td>-0.005482</td>\n",
       "      <td>0.001540</td>\n",
       "      <td>-0.0016</td>\n",
       "      <td>-0.2888</td>\n",
       "      <td>0.1672</td>\n",
       "      <td>0.039620</td>\n",
       "      <td>-3.152112</td>\n",
       "      <td>25.105315</td>\n",
       "      <td>0.256400</td>\n",
       "      <td>0.000253</td>\n",
       "      <td>...</td>\n",
       "      <td>-0.004906</td>\n",
       "      <td>0.000961</td>\n",
       "      <td>-0.0032</td>\n",
       "      <td>-0.1177</td>\n",
       "      <td>0.1393</td>\n",
       "      <td>0.031382</td>\n",
       "      <td>-0.158666</td>\n",
       "      <td>5.648270</td>\n",
       "      <td>0.164358</td>\n",
       "      <td>0</td>\n",
       "    </tr>\n",
       "    <tr>\n",
       "      <th>1</th>\n",
       "      <td>0.007375</td>\n",
       "      <td>0.004575</td>\n",
       "      <td>-0.0010</td>\n",
       "      <td>-0.2182</td>\n",
       "      <td>0.4063</td>\n",
       "      <td>0.068038</td>\n",
       "      <td>3.409275</td>\n",
       "      <td>17.744252</td>\n",
       "      <td>1.027660</td>\n",
       "      <td>0.001180</td>\n",
       "      <td>...</td>\n",
       "      <td>0.000756</td>\n",
       "      <td>0.007997</td>\n",
       "      <td>-0.0029</td>\n",
       "      <td>-0.3146</td>\n",
       "      <td>0.7028</td>\n",
       "      <td>0.089431</td>\n",
       "      <td>3.240370</td>\n",
       "      <td>25.094149</td>\n",
       "      <td>1.775239</td>\n",
       "      <td>0</td>\n",
       "    </tr>\n",
       "    <tr>\n",
       "      <th>2</th>\n",
       "      <td>0.000866</td>\n",
       "      <td>0.000292</td>\n",
       "      <td>-0.0002</td>\n",
       "      <td>-0.0107</td>\n",
       "      <td>0.2475</td>\n",
       "      <td>0.017108</td>\n",
       "      <td>13.737278</td>\n",
       "      <td>195.249854</td>\n",
       "      <td>0.064100</td>\n",
       "      <td>0.000566</td>\n",
       "      <td>...</td>\n",
       "      <td>-0.003927</td>\n",
       "      <td>0.000159</td>\n",
       "      <td>-0.0031</td>\n",
       "      <td>-0.1883</td>\n",
       "      <td>0.0062</td>\n",
       "      <td>0.013219</td>\n",
       "      <td>-14.224837</td>\n",
       "      <td>204.867043</td>\n",
       "      <td>0.038267</td>\n",
       "      <td>0</td>\n",
       "    </tr>\n",
       "    <tr>\n",
       "      <th>3</th>\n",
       "      <td>0.000034</td>\n",
       "      <td>0.000008</td>\n",
       "      <td>0.0000</td>\n",
       "      <td>-0.0124</td>\n",
       "      <td>0.0178</td>\n",
       "      <td>0.002774</td>\n",
       "      <td>0.823852</td>\n",
       "      <td>8.292259</td>\n",
       "      <td>0.001668</td>\n",
       "      <td>0.000029</td>\n",
       "      <td>...</td>\n",
       "      <td>-0.002568</td>\n",
       "      <td>0.000003</td>\n",
       "      <td>-0.0028</td>\n",
       "      <td>-0.0079</td>\n",
       "      <td>0.0114</td>\n",
       "      <td>0.003066</td>\n",
       "      <td>2.803187</td>\n",
       "      <td>21.245055</td>\n",
       "      <td>0.002075</td>\n",
       "      <td>0</td>\n",
       "    </tr>\n",
       "    <tr>\n",
       "      <th>4</th>\n",
       "      <td>-0.000262</td>\n",
       "      <td>0.000008</td>\n",
       "      <td>-0.0005</td>\n",
       "      <td>-0.0140</td>\n",
       "      <td>0.0128</td>\n",
       "      <td>0.002892</td>\n",
       "      <td>0.490040</td>\n",
       "      <td>5.675891</td>\n",
       "      <td>0.001644</td>\n",
       "      <td>-0.000076</td>\n",
       "      <td>...</td>\n",
       "      <td>-0.001793</td>\n",
       "      <td>0.000003</td>\n",
       "      <td>-0.0016</td>\n",
       "      <td>-0.0083</td>\n",
       "      <td>0.0028</td>\n",
       "      <td>0.002425</td>\n",
       "      <td>-0.723952</td>\n",
       "      <td>1.651197</td>\n",
       "      <td>0.001292</td>\n",
       "      <td>0</td>\n",
       "    </tr>\n",
       "  </tbody>\n",
       "</table>\n",
       "<p>5 rows × 28 columns</p>\n",
       "</div>"
      ],
      "text/plain": [
       "     x_mean  x_variance  x_median   x_min   x_max     x_rms     x_skew  \\\n",
       "0 -0.005482    0.001540   -0.0016 -0.2888  0.1672  0.039620  -3.152112   \n",
       "1  0.007375    0.004575   -0.0010 -0.2182  0.4063  0.068038   3.409275   \n",
       "2  0.000866    0.000292   -0.0002 -0.0107  0.2475  0.017108  13.737278   \n",
       "3  0.000034    0.000008    0.0000 -0.0124  0.0178  0.002774   0.823852   \n",
       "4 -0.000262    0.000008   -0.0005 -0.0140  0.0128  0.002892   0.490040   \n",
       "\n",
       "   x_Kurtiosis  x_FFT_variance    y_mean  ...    z_mean  z_variance  z_median  \\\n",
       "0    25.105315        0.256400  0.000253  ... -0.004906    0.000961   -0.0032   \n",
       "1    17.744252        1.027660  0.001180  ...  0.000756    0.007997   -0.0029   \n",
       "2   195.249854        0.064100  0.000566  ... -0.003927    0.000159   -0.0031   \n",
       "3     8.292259        0.001668  0.000029  ... -0.002568    0.000003   -0.0028   \n",
       "4     5.675891        0.001644 -0.000076  ... -0.001793    0.000003   -0.0016   \n",
       "\n",
       "    z_min   z_max     z_rms     z_skew  z_Kurtiosis  z_FFT_variance  drunk  \n",
       "0 -0.1177  0.1393  0.031382  -0.158666     5.648270        0.164358      0  \n",
       "1 -0.3146  0.7028  0.089431   3.240370    25.094149        1.775239      0  \n",
       "2 -0.1883  0.0062  0.013219 -14.224837   204.867043        0.038267      0  \n",
       "3 -0.0079  0.0114  0.003066   2.803187    21.245055        0.002075      0  \n",
       "4 -0.0083  0.0028  0.002425  -0.723952     1.651197        0.001292      0  \n",
       "\n",
       "[5 rows x 28 columns]"
      ]
     },
     "execution_count": 31,
     "metadata": {},
     "output_type": "execute_result"
    }
   ],
   "source": [
    "df = pd.read_csv(r\"C:\\Users\\Vasumathi T\\Drunk-or-Sober-Prediction-from-Accelerometer-Data\\clean_data.csv\")\n",
    "df = df.drop(['Unnamed: 0','pid','t'], axis = 1)\n",
    "df.dropna()\n",
    "df.head()"
   ]
  },
  {
   "cell_type": "code",
   "execution_count": 32,
   "id": "4ba4b93a",
   "metadata": {},
   "outputs": [
    {
     "data": {
      "text/plain": [
       "Index(['x_mean', 'x_variance', 'x_median', 'x_min', 'x_max', 'x_rms', 'x_skew',\n",
       "       'x_Kurtiosis', 'x_FFT_variance', 'y_mean', 'y_variance', 'y_median',\n",
       "       'y_min', 'y_max', 'y_rms', 'y_skew', 'y_Kurtiosis', 'y_FFT_variance',\n",
       "       'z_mean', 'z_variance', 'z_median', 'z_min', 'z_max', 'z_rms', 'z_skew',\n",
       "       'z_Kurtiosis', 'z_FFT_variance', 'drunk'],\n",
       "      dtype='object')"
      ]
     },
     "execution_count": 32,
     "metadata": {},
     "output_type": "execute_result"
    }
   ],
   "source": [
    "df.columns"
   ]
  },
  {
   "cell_type": "code",
   "execution_count": 33,
   "id": "e58ee6f4",
   "metadata": {},
   "outputs": [],
   "source": [
    "x, y = df[[x for x in df.columns if x != 'drunk']].to_numpy(), df['drunk'].to_numpy()     "
   ]
  },
  {
   "cell_type": "code",
   "execution_count": 34,
   "id": "b4a653fb",
   "metadata": {},
   "outputs": [],
   "source": [
    "from sklearn.model_selection import train_test_split\n",
    "x_train, x_test, y_train, y_test = train_test_split(x, y, test_size = 0.25)"
   ]
  },
  {
   "cell_type": "code",
   "execution_count": 44,
   "id": "3897f7db",
   "metadata": {},
   "outputs": [],
   "source": [
    "x_train = np.nan_to_num(x_train)\n",
    "x_test = np.nan_to_num(x_test)"
   ]
  },
  {
   "cell_type": "markdown",
   "id": "99de04fe",
   "metadata": {},
   "source": [
    "Random Forest"
   ]
  },
  {
   "cell_type": "code",
   "execution_count": 55,
   "id": "57ad96a1",
   "metadata": {},
   "outputs": [
    {
     "data": {
      "text/plain": [
       "0.8314641424014816"
      ]
     },
     "execution_count": 55,
     "metadata": {},
     "output_type": "execute_result"
    }
   ],
   "source": [
    "from sklearn.ensemble import RandomForestClassifier\n",
    "from sklearn.metrics import accuracy_score\n",
    "rf = RandomForestClassifier(max_depth=15, n_estimators=100)\n",
    "rf.fit(x_train, y_train)\n",
    "rf_pred = rf.predict(x_test)\n",
    "accuracy_score(rf_pred, y_test)"
   ]
  },
  {
   "cell_type": "code",
   "execution_count": 53,
   "id": "1cd59ee9",
   "metadata": {},
   "outputs": [
    {
     "data": {
      "image/png": "[encoded data removed]",
      "text/plain": [
       "<Figure size 640x480 with 2 Axes>"
      ]
     },
     "metadata": {},
     "output_type": "display_data"
    }
   ],
   "source": [
    "from sklearn.metrics import confusion_matrix\n",
    "cm = confusion_matrix(y_test, rf_pred)\n",
    "sns.heatmap(cm,annot=True)\n",
    "plt.ylabel('Prediction',fontsize=13)\n",
    "plt.xlabel('Actual',fontsize=13)\n",
    "plt.title('Confusion Matrix',fontsize=17)\n",
    "plt.show()"
   ]
  },
  {
   "cell_type": "markdown",
   "id": "a76c0535",
   "metadata": {},
   "source": [
    "Adaboost"
   ]
  },
  {
   "cell_type": "code",
   "execution_count": 59,
   "id": "e2f04be8",
   "metadata": {},
   "outputs": [
    {
     "data": {
      "text/plain": [
       "0.8088280687313509"
      ]
     },
     "execution_count": 59,
     "metadata": {},
     "output_type": "execute_result"
    }
   ],
   "source": [
    "from sklearn.ensemble import AdaBoostClassifier\n",
    "from sklearn.tree import DecisionTreeClassifier\n",
    "abc = AdaBoostClassifier(DecisionTreeClassifier(max_depth = 8), n_estimators = 200)\n",
    "abc.fit(x_train, y_train)\n",
    "ab_pred = abc.predict(x_test)\n",
    "accuracy_score(ab_pred, y_test)"
   ]
  },
  {
   "cell_type": "code",
   "execution_count": 60,
   "id": "12363a2e",
   "metadata": {},
   "outputs": [
    {
     "data": {
      "image/png": "[encoded data removed]",
      "text/plain": [
       "<Figure size 640x480 with 2 Axes>"
      ]
     },
     "metadata": {},
     "output_type": "display_data"
    }
   ],
   "source": [
    "cm = confusion_matrix(y_test, ab_pred)\n",
    "sns.heatmap(cm,annot=True)\n",
    "plt.ylabel('Prediction',fontsize=13)\n",
    "plt.xlabel('Actual',fontsize=13)\n",
    "plt.title('Confusion Matrix',fontsize=17)\n",
    "plt.show()"
   ]
  },
  {
   "cell_type": "code",
   "execution_count": null,
   "id": "87f87ffe",
   "metadata": {},
   "outputs": [],
   "source": []
  }
 ],
 "metadata": {
  "kernelspec": {
   "display_name": "Python 3 (ipykernel)",
   "language": "python",
   "name": "python3"
  },
  "language_info": {
   "codemirror_mode": {
    "name": "ipython",
    "version": 3
   },
   "file_extension": ".py",
   "mimetype": "text/x-python",
   "name": "python",
   "nbconvert_exporter": "python",
   "pygments_lexer": "ipython3",
   "version": "3.11.4"
  }
 },
 "nbformat": 4,
 "nbformat_minor": 5
}
